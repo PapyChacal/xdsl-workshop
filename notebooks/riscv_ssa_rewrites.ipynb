{
 "cells": [
  {
   "cell_type": "markdown",
   "id": "074662cf",
   "metadata": {},
   "source": [
    "# Supporting a custom L0 RISC-V accelerator\n",
    "\n",
    "\n",
    "Let's assume we have been given the following from God:\n",
    "\n",
    " - A program compiled half-way down to RISC-V Assembly\n",
    " - The format of this program is what we call \"RISC-V SSA\"\n",
    "\n",
    "Let's not worry too much about what all this means, and instead just look at it:\n"
   ]
  },
  {
   "cell_type": "code",
   "execution_count": 11,
   "id": "f97b364a",
   "metadata": {},
   "outputs": [],
   "source": [
    "from riscv.riscv_ssa import *\n",
    "from xdsl.dialects.builtin import ModuleOp\n",
    "from riscv.emulator_iop import run_riscv, print_riscv_ssa\n",
    "\n",
    "p = Printer(target=Printer.Target.MLIR)"
   ]
  },
  {
   "cell_type": "markdown",
   "id": "8e9864f5",
   "metadata": {},
   "source": [
    "### Our SSA RISC-V:"
   ]
  },
  {
   "cell_type": "code",
   "execution_count": 12,
   "id": "d5d2f4dc",
   "metadata": {},
   "outputs": [],
   "source": [
    "module = ModuleOp.from_region_or_ops([\n",
    "    LabelOp.get('main'),\n",
    "    a0  := LIOp.get(82),\n",
    "    a1  := LIOp.get(5),\n",
    "    mul := MULOp.get(a0, a1),\n",
    "    a2  := LIOp.get(10),\n",
    "    add := AddOp.get(mul, a2),\n",
    "    ECALLOp.get(93, add)\n",
    "])"
   ]
  },
  {
   "cell_type": "markdown",
   "id": "bc5b6c34",
   "metadata": {},
   "source": [
    "**let's print it out:**"
   ]
  },
  {
   "cell_type": "code",
   "execution_count": 3,
   "id": "a6f1f68a",
   "metadata": {},
   "outputs": [
    {
     "name": "stdout",
     "output_type": "stream",
     "text": [
      "\"builtin.module\"() ({\n",
      "  \"riscv_ssa.label\"() {\"label\" = #riscv.label<main>} : () -> ()\n",
      "  %0 = \"riscv_ssa.li\"() {\"immediate\" = 82 : i32} : () -> #riscv_ssa.reg\n",
      "  %1 = \"riscv_ssa.li\"() {\"immediate\" = 5 : i32} : () -> #riscv_ssa.reg\n",
      "  %2 = \"riscv_ssa.mul\"(%0, %1) : (#riscv_ssa.reg, #riscv_ssa.reg) -> #riscv_ssa.reg\n",
      "  %3 = \"riscv_ssa.li\"() {\"immediate\" = 10 : i32} : () -> #riscv_ssa.reg\n",
      "  %4 = \"riscv_ssa.add\"(%2, %3) : (#riscv_ssa.reg, #riscv_ssa.reg) -> #riscv_ssa.reg\n",
      "  \"riscv_ssa.ecall\"(%4) {\"syscall_num\" = 93 : i32} : (#riscv_ssa.reg) -> ()\n",
      "}) : () -> ()\n"
     ]
    }
   ],
   "source": [
    "p.print(module)"
   ]
  },
  {
   "cell_type": "markdown",
   "id": "bb9b4597",
   "metadata": {},
   "source": [
    "This *really* doesn't look like RISC-V. But if I look at it for a while, I can see some familiar stuff:\n",
    "\n",
    "\n",
    "```\n",
    "    %0 = \"riscv_ssa.li\"() {\"immediate\" = 82 : i32}\n",
    "    ^^              ^^                   ^^\n",
    "    Result?         Op-name              Argument\n",
    "```\n",
    "\n",
    "We seem to have the `li` pseudo-op here, with an immediate value of `82`. It's result is stored in `%0`."
   ]
  },
  {
   "cell_type": "markdown",
   "id": "075a8628",
   "metadata": {},
   "source": [
    "### A short (and incomplete) introduction to SSA\n",
    "\n",
    " - We have infinitely many variables (or registers)\n",
    " - We can only assign to each register once"
   ]
  },
  {
   "cell_type": "code",
   "execution_count": null,
   "id": "b3918278",
   "metadata": {},
   "outputs": [],
   "source": []
  },
  {
   "cell_type": "code",
   "execution_count": 4,
   "id": "7ab88af6",
   "metadata": {},
   "outputs": [],
   "source": [
    "@irdl_op_definition\n",
    "class FmaddOp(Operation):\n",
    "    name = \"riscv_ssa.fmadd\"\n",
    "    \n",
    "    rd: Annotated[OpResult, RegisterType]\n",
    "    rs1: Annotated[Operand, RegisterType]\n",
    "    rs2: Annotated[Operand, RegisterType]\n",
    "    rs3: Annotated[Operand, RegisterType]\n",
    "    \n",
    "    @classmethod\n",
    "    def get(cls, *rs):\n",
    "        return cls.build(operands=rs, result_types=[RegisterType()])"
   ]
  },
  {
   "cell_type": "code",
   "execution_count": 5,
   "id": "35d5ef90",
   "metadata": {},
   "outputs": [],
   "source": [
    "from xdsl.pattern_rewriter import (GreedyRewritePatternApplier,\n",
    "                                   PatternRewriter, PatternRewriteWalker,\n",
    "                                   RewritePattern, op_type_rewrite_pattern)\n",
    "\n",
    "class FmaddOpOptimizer(RewritePattern):\n",
    "    @op_type_rewrite_pattern\n",
    "    def match_and_rewrite(self, add: AddOp, rewriter: PatternRewriter):        \n",
    "        for operand in add.operands:\n",
    "            if isinstance(operand.op, MULOp):\n",
    "                other_operand = add.rs1 if operand == add.rs2 else add.rs2                \n",
    "                a, b = operand.op.operands\n",
    "\n",
    "                rewriter.replace_matched_op(\n",
    "                    FmaddOp.get(a, b, other_operand)\n",
    "                )\n",
    "\n",
    "                rewriter.erase_op(operand.op)\n",
    "                break"
   ]
  },
  {
   "cell_type": "code",
   "execution_count": 6,
   "id": "c0634dfc",
   "metadata": {},
   "outputs": [],
   "source": [
    "PatternRewriteWalker(GreedyRewritePatternApplier([FmaddOpOptimizer()])).rewrite_module(module)"
   ]
  },
  {
   "cell_type": "code",
   "execution_count": 7,
   "id": "886738dd",
   "metadata": {},
   "outputs": [
    {
     "name": "stdout",
     "output_type": "stream",
     "text": [
      "\"builtin.module\"() ({\n",
      "  \"riscv_ssa.label\"() {\"label\" = #riscv.label<main>} : () -> ()\n",
      "  %0 = \"riscv_ssa.li\"() {\"immediate\" = 82 : i32} : () -> #riscv_ssa.reg\n",
      "  %1 = \"riscv_ssa.li\"() {\"immediate\" = 5 : i32} : () -> #riscv_ssa.reg\n",
      "  %3 = \"riscv_ssa.li\"() {\"immediate\" = 10 : i32} : () -> #riscv_ssa.reg\n",
      "  %5 = \"riscv_ssa.fmadd\"(%0, %1, %3) : (#riscv_ssa.reg, #riscv_ssa.reg, #riscv_ssa.reg) -> #riscv_ssa.reg\n",
      "  \"riscv_ssa.ecall\"(%5) {\"syscall_num\" = 93 : i32} : (#riscv_ssa.reg) -> ()\n",
      "}) : () -> ()\n"
     ]
    }
   ],
   "source": [
    "p.print(module)"
   ]
  },
  {
   "cell_type": "code",
   "execution_count": 8,
   "id": "2de93c7a",
   "metadata": {},
   "outputs": [
    {
     "name": "stdout",
     "output_type": "stream",
     "text": [
      ".text\n",
      "main:\n",
      "\tli\t%0, 82\n",
      "\tli\t%1, 5\n",
      "\tli\t%2, 10\n",
      "\tfmadd\t%3, %0, %1, %2\n",
      "\tmv\ta0, %3\n",
      "\tli\ta7, 93\n",
      "\tscall\n",
      "\n"
     ]
    }
   ],
   "source": [
    "print(print_riscv_ssa(module))"
   ]
  },
  {
   "cell_type": "code",
   "execution_count": 9,
   "id": "818def73",
   "metadata": {},
   "outputs": [],
   "source": [
    "from riscemu.instructions import InstructionSet\n",
    "from riscemu.types import Instruction\n",
    "\n",
    "class RV_fmadd(InstructionSet):\n",
    "    def instruction_fmadd(self, ins: Instruction):\n",
    "        rd, rs1, rs2, rs3 = (ins.get_reg(i) for i in (0,1,2,3))\n",
    "        \n",
    "        self.regs.set(\n",
    "            rd, (self.regs.get(rs1) * self.regs.get(rs2)) + self.regs.get(rs3)\n",
    "        )"
   ]
  },
  {
   "cell_type": "code",
   "execution_count": 10,
   "id": "1bb689a3",
   "metadata": {},
   "outputs": [
    {
     "name": "stdout",
     "output_type": "stream",
     "text": [
      "\u001b[34m\u001b[1m[CPU] Started running from example.asm:.text at main (0x100) + 0x0\u001b[0m\n",
      "Program(name=example.asm,sections=set(),base=['.text'])\n",
      "\u001b[34m\u001b[1m   Running 0x00000100:\u001b[0m li %0, 82\n",
      "\u001b[34m\u001b[1m   Running 0x00000104:\u001b[0m li %1, 5\n",
      "\u001b[34m\u001b[1m   Running 0x00000108:\u001b[0m li %2, 10\n",
      "\u001b[34m\u001b[1m   Running 0x0000010C:\u001b[0m fmadd %3, %0, %1, %2\n",
      "\u001b[34m\u001b[1m   Running 0x00000110:\u001b[0m mv a0, %3\n",
      "\u001b[34m\u001b[1m   Running 0x00000114:\u001b[0m li a7, 93\n",
      "\u001b[34m\u001b[1m   Running 0x00000118:\u001b[0m scall \n",
      "\u001b[34m\u001b[1m[CPU] Program exited with code 420\u001b[0m\n"
     ]
    }
   ],
   "source": [
    "run_riscv(print_riscv_ssa(module), extensions=(RV_fmadd,), unlimited_regs=True)"
   ]
  }
 ],
 "metadata": {
  "kernelspec": {
   "display_name": "Python 3 (ipykernel)",
   "language": "python",
   "name": "python3"
  },
  "language_info": {
   "codemirror_mode": {
    "name": "ipython",
    "version": 3
   },
   "file_extension": ".py",
   "mimetype": "text/x-python",
   "name": "python",
   "nbconvert_exporter": "python",
   "pygments_lexer": "ipython3",
   "version": "3.10.8"
  }
 },
 "nbformat": 4,
 "nbformat_minor": 5
}
