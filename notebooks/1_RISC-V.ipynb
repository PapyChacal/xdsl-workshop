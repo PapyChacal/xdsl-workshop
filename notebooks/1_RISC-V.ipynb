{
 "cells": [
  {
   "cell_type": "markdown",
   "id": "01ece33c",
   "metadata": {},
   "source": [
    "[Back to table of contents](0_Table_of_Contents.ipynb)"
   ]
  },
  {
   "cell_type": "code",
   "execution_count": null,
   "id": "5c675f41",
   "metadata": {},
   "outputs": [],
   "source": [
    "import xdsl, riscemu"
   ]
  },
  {
   "cell_type": "markdown",
   "id": "32f4357f",
   "metadata": {},
   "source": [
    "# Supporting a custom L0 RISC-V accelerator\n",
    "\n",
    "\n",
    "Our goal in this notebook is to implement a simple L0 accelerator. We want to introduce an `fmadd` instruction, and turn this output assembly:\n",
    "\n",
    "```\n",
    "        mul   a2, a0, a1         # a2 = a0 * a1\n",
    "        add   a4, a2, a3         # a4 = a2 + a3\n",
    "```\n",
    "\n",
    "Into this:\n",
    "\n",
    "```\n",
    "        fmadd a4, a0, a1, a3     # a4 = (a0 * a1) + a3\n",
    "```\n",
    "\n",
    "\n",
    "## This Setup\n",
    "\n",
    "In order to support our this workshop, we are using a RISC-V Emulator called riscemu. Let's take a look:"
   ]
  },
  {
   "cell_type": "code",
   "execution_count": null,
   "id": "6895c2ef",
   "metadata": {},
   "outputs": [],
   "source": [
    "from riscv.emulator_iop import run_riscv\n",
    "\n",
    "assembly = r\"\"\"\n",
    "        .data\n",
    "msg:    .ascii \"Hello world\\n\"\n",
    "        .text\n",
    "        # print hello world:\n",
    "        li      a0, 1             # load stdout file descriptor\n",
    "        li      a1, msg           # load msg address\n",
    "        li      a2, 12            # load message length: 12 bytes\n",
    "        li      a7, 64            # load \"write\" syscall code\n",
    "        scall                     # invoke syscall\n",
    "        # and exit:\n",
    "        li      a0, 0             # set exit code to 0\n",
    "        li      a7, 93            # load \"exit\" syscall code\n",
    "        scall                     # invoke syscall\n",
    "\"\"\"\n",
    "\n",
    "run_riscv(assembly)"
   ]
  },
  {
   "cell_type": "markdown",
   "id": "51658479",
   "metadata": {},
   "source": [
    "## Starting Off\n",
    "\n",
    "\n",
    "Let's assume the following \"fell from the sky\" (or a higher plane of abstraction):\n",
    "\n",
    " - A program compiled half-way down to RISC-V Assembly\n",
    " - The format of this program is what we call \"RISC-V SSA\"\n",
    "\n",
    "Let's not worry too much about what all this means, all will be explained in due time. Have faith!\n",
    "\n",
    "Let's first look at what we've got:"
   ]
  },
  {
   "cell_type": "code",
   "execution_count": null,
   "id": "d5d2f4dc",
   "metadata": {},
   "outputs": [],
   "source": [
    "# our half-compiled program\n",
    "from riscv.the_sky import module\n",
    "# a function to print it as neat RISC-V Assembly\n",
    "from riscv.emulator_iop import print_riscv_ssa\n",
    "\n",
    "print(print_riscv_ssa(module))"
   ]
  },
  {
   "cell_type": "markdown",
   "id": "fbb48a40",
   "metadata": {},
   "source": [
    "## A short (and incomplete) introduction to SSA\n",
    "\n",
    "\n",
    "That was not too bad! We can recognize this as RISC-V, although our register names look a bit weird.\n",
    "\n",
    "That's because our compiler is at a stage, where it has decided on a set of RISC-V instructions it wants to emit, but hasn't made up it's mind yet on in *which register exactly* a specific value goes.\n",
    "\n",
    "There is also a more generic way to print internal compiler representation though:"
   ]
  },
  {
   "cell_type": "code",
   "execution_count": null,
   "id": "031f5443",
   "metadata": {},
   "outputs": [],
   "source": [
    "from riscv.the_sky import printer\n",
    "\n",
    "printer.print(module)"
   ]
  },
  {
   "cell_type": "markdown",
   "id": "fa53a8d9",
   "metadata": {},
   "source": [
    "Okay. This *really* doesn't look like RISC-V. But if I look at it for a while, I can see some familiar stuff:\n",
    "\n",
    "\n",
    "```\n",
    "    %0 = \"riscv_ssa.li\"() {\"immediate\" = 10 : i32}\n",
    "    ^^              ^^                   ^^\n",
    "    Result          Op-name              Argument\n",
    "```\n",
    "\n",
    "We seem to have the `li` pseudo-op here, with an immediate value of `10`. It's result is stored in `%0`."
   ]
  },
  {
   "cell_type": "markdown",
   "id": "09de4a76",
   "metadata": {},
   "source": [
    "### But What Does SSA Mean?\n",
    "\n",
    "SSA stands for \"Static Single Assignment\". Our compiler framework uses it.\n",
    "\n",
    " - Each variable is assigned exactly once!\n",
    " - We have infinitely many variables (or registers)\n",
    "\n",
    "So `%0` is just an SSA variable. The type of the variable is `#riscv_ssa.reg`, which is a convoluted way of saying that it represents a register. The compiler just hasn't made up its mind yet which specific register it means.\n",
    "\n",
    "This abstraction will enable us to do some powerful stuff later on.\n",
    "\n",
    "Anyways, we try not to interact much with SSA **yet**. So let's just keep printing it this nicer way:"
   ]
  },
  {
   "cell_type": "code",
   "execution_count": null,
   "id": "606ff81b",
   "metadata": {},
   "outputs": [],
   "source": [
    "print(print_riscv_ssa(module))"
   ]
  },
  {
   "cell_type": "markdown",
   "id": "991107a0",
   "metadata": {},
   "source": [
    "This *does* look remarkable similar to RISC-V. And since we *have* a RISC-V emulator... Let's just run this in it!\n",
    "\n",
    "All we need to do is take care of the register naming! Luckily, our emulator can emulate an infinite register file!"
   ]
  },
  {
   "cell_type": "code",
   "execution_count": null,
   "id": "7478a21f",
   "metadata": {},
   "outputs": [],
   "source": [
    "run_riscv(print_riscv_ssa(module), unlimited_regs=True)"
   ]
  },
  {
   "cell_type": "markdown",
   "id": "1d7e0daa",
   "metadata": {},
   "source": [
    "This is very convenient, as we can just throw our compiler representation of RISC-V at it!\n",
    "\n",
    "And what's up with this `print` instruction? That's not standard RISC-V!\n",
    "\n",
    "As it turns out, we've modified our emulator slightly for this workshop! We have added a `print` instruction to print register contents. You will find this to be a recurring theme in this workshop!"
   ]
  },
  {
   "cell_type": "markdown",
   "id": "1435f850",
   "metadata": {},
   "source": [
    "## Let's Accelerate This:\n",
    "\n",
    "As stated, we want to add our fmadd instruction now:\n",
    "\n",
    "Let's define it's structure as `fmadd  rd, rs1, rs2, rs3`\n",
    "\n",
    "We first need to tell our compiler about the structure of our new instruction. For that we can use `xDSL` and it's interface for defining new Operations called `irdl`:"
   ]
  },
  {
   "cell_type": "code",
   "execution_count": null,
   "id": "7ab88af6",
   "metadata": {},
   "outputs": [],
   "source": [
    "from xdsl.irdl import irdl_op_definition, Operation, Operand, Annotated, OpResult\n",
    "from riscv.riscv_ssa import *\n",
    "\n",
    "@irdl_op_definition\n",
    "class FmaddOp(Operation):\n",
    "    name = \"riscv_ssa.fmadd\"\n",
    "    \n",
    "    rd: Annotated[OpResult, RegisterType]\n",
    "    \"\"\"\n",
    "    We return a single value in a register\n",
    "    \"\"\"\n",
    "    \n",
    "    rs1: Annotated[Operand, RegisterType]\n",
    "    rs2: Annotated[Operand, RegisterType]\n",
    "    rs3: Annotated[Operand, RegisterType]\n",
    "    \"\"\"\n",
    "    We take three arguments (Operands), which are also registers.\n",
    "    \"\"\"\n",
    "    \n",
    "    @classmethod\n",
    "    def get(cls, *rs: List[Operand]):\n",
    "        \"\"\"\n",
    "        This is a little helper function, to help us construct an fmadd operation\n",
    "        \"\"\"\n",
    "        return cls.build(operands=rs, result_types=[RegisterType()])"
   ]
  },
  {
   "cell_type": "markdown",
   "id": "ad86b973",
   "metadata": {},
   "source": [
    "### How to get the Fmadd into the RISC-V?\n",
    "\n",
    "Now to the interesting part. We need to create a compiler optimization that replaces a `mul` and `add` with an `fmadd`.\n",
    "\n",
    "For that, we can use the xdsl `pattern_rewriter` module, which provides us with a neat interface for defining optimizations:"
   ]
  },
  {
   "cell_type": "code",
   "execution_count": null,
   "id": "35d5ef90",
   "metadata": {},
   "outputs": [],
   "source": [
    "# Import some things from the xdsl.pattern_rewriter module:\n",
    "from xdsl.pattern_rewriter import PatternRewriter, RewritePattern, op_type_rewrite_pattern\n",
    "\n",
    "# Create our rewriter class:\n",
    "class FmaddOpOptimizer(RewritePattern):\n",
    "    \n",
    "    @op_type_rewrite_pattern\n",
    "    def match_and_rewrite(self, add: AddOp, rewriter: PatternRewriter):\n",
    "        \"\"\"\n",
    "        This method will be called on each AddOp in out RISC-V SSA definition.\n",
    "        \"\"\"\n",
    "        # we iterate over all operands (arguments) of the add instruction\n",
    "        for operand in add.operands:\n",
    "            # and try to find a value that was the result of a MULOp\n",
    "            # also check that it's only used once (by this AddOp) and no one else\n",
    "            if isinstance(operand.op, MULOp) and len(operand.uses) == 1:\n",
    "                # if we find one, we grab its arguments\n",
    "                a, b = operand.op.operands\n",
    "                # and the other argument to our add instruction\n",
    "                other_operand = add.rs1 if operand == add.rs2 else add.rs2\n",
    "\n",
    "                # we then replace the add instruction with a fmadd instruction\n",
    "                rewriter.replace_matched_op(\n",
    "                    FmaddOp.get(a, b, other_operand)\n",
    "                )\n",
    "\n",
    "                # and erase the mul instruction\n",
    "                rewriter.erase_op(operand.op)\n",
    "                break"
   ]
  },
  {
   "cell_type": "markdown",
   "id": "ba2d7ff6",
   "metadata": {},
   "source": [
    "This is a pretty naive rewrite, but it will work for now.\n",
    "\n",
    "Let's apply this rewrite:"
   ]
  },
  {
   "cell_type": "code",
   "execution_count": null,
   "id": "c0634dfc",
   "metadata": {},
   "outputs": [],
   "source": [
    "from xdsl.pattern_rewriter import PatternRewriteWalker, GreedyRewritePatternApplier\n",
    "PatternRewriteWalker(GreedyRewritePatternApplier([FmaddOpOptimizer()])).rewrite_module(module)"
   ]
  },
  {
   "cell_type": "markdown",
   "id": "cbd218ff",
   "metadata": {},
   "source": [
    "Okay, let's look at what happened to our assembly:"
   ]
  },
  {
   "cell_type": "code",
   "execution_count": null,
   "id": "05ae6f50",
   "metadata": {},
   "outputs": [],
   "source": [
    "print(print_riscv_ssa(module))"
   ]
  },
  {
   "cell_type": "markdown",
   "id": "83e8fe94",
   "metadata": {},
   "source": [
    "We can see, that an `fmadd` operation was inserted, and our `mul` and `add` is gone!"
   ]
  },
  {
   "cell_type": "markdown",
   "id": "742516d1",
   "metadata": {},
   "source": [
    "**Success!**"
   ]
  },
  {
   "cell_type": "markdown",
   "id": "1258abfd",
   "metadata": {},
   "source": [
    "## Emulation Time:\n",
    "\n",
    "We defined the syntax of the `fmadd` instruction, but we now need to define the semantics for the emulator:"
   ]
  },
  {
   "cell_type": "code",
   "execution_count": null,
   "id": "818def73",
   "metadata": {},
   "outputs": [],
   "source": [
    "from riscemu.instructions import InstructionSet, Instruction\n",
    "\n",
    "# Define a RISC-V ISA extension by subclassing InstructionSet\n",
    "class RV_fmadd(InstructionSet):\n",
    "    # each method beginning with instruction_ will be available to the Emulator\n",
    "    \n",
    "    def instruction_fmadd(self, ins: Instruction):\n",
    "        \"\"\"\n",
    "        This method defines the semantics of the fmadd instruction. Let's settle at:\n",
    "        \n",
    "        rd = (rs1 * rs2) + rs3\n",
    "        \"\"\"\n",
    "        # get all register names from the instruction:\n",
    "        rd, rs1, rs2, rs3 = (ins.get_reg(i) for i in (0,1,2,3))\n",
    "        \n",
    "        # we can access the cpu registers through self.regs\n",
    "        \n",
    "        # we can set a register value using self.regs.set(name: str, value: Int32)\n",
    "        self.regs.set(\n",
    "            rd,\n",
    "            (self.regs.get(rs1) * self.regs.get(rs2)) + self.regs.get(rs3)\n",
    "        )"
   ]
  },
  {
   "cell_type": "markdown",
   "id": "6c9501c5",
   "metadata": {},
   "source": [
    "We need to tell the emulator about our new instruction set extension. Luckily, our `run_riscv` function accepts an `extension` argument, that takes a list of extensions for the emulator!\n",
    "\n",
    "Let's give it a go!"
   ]
  },
  {
   "cell_type": "code",
   "execution_count": null,
   "id": "1bb689a3",
   "metadata": {},
   "outputs": [],
   "source": [
    "run_riscv(print_riscv_ssa(module), extensions=(RV_fmadd,), unlimited_regs=True)"
   ]
  },
  {
   "cell_type": "markdown",
   "id": "c88727f8",
   "metadata": {},
   "source": [
    "## Success!"
   ]
  },
  {
   "cell_type": "markdown",
   "id": "22064f9d",
   "metadata": {},
   "source": [
    "[Back to table of contents](0_Table_of_Contents.ipynb)"
   ]
  }
 ],
 "metadata": {
  "kernelspec": {
   "display_name": "Python 3 (ipykernel)",
   "language": "python",
   "name": "python3"
  },
  "language_info": {
   "codemirror_mode": {
    "name": "ipython",
    "version": 3
   },
   "file_extension": ".py",
   "mimetype": "text/x-python",
   "name": "python",
   "nbconvert_exporter": "python",
   "pygments_lexer": "ipython3",
   "version": "3.10.9"
  },
  "vscode": {
   "interpreter": {
    "hash": "916dbcbb3f70747c44a77c7bcd40155683ae19c65e1c03b4aa3499c5328201f1"
   }
  }
 },
 "nbformat": 4,
 "nbformat_minor": 5
}
