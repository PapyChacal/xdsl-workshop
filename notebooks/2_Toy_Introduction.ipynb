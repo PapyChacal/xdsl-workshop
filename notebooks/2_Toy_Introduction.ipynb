{
 "cells": [
  {
   "attachments": {},
   "cell_type": "markdown",
   "id": "302a1179",
   "metadata": {},
   "source": [
    "<br><br/>\n",
    "[Back to table of contents](0_Table_of_Contents.ipynb)"
   ]
  },
  {
   "cell_type": "markdown",
   "id": "56341c66",
   "metadata": {},
   "source": [
    "# Chapter 1: Toy Language\n",
    "\n",
    "This is an xDSL version of the Toy compiler, as described in the \n",
    "[MLIR tutorial](https://mlir.llvm.org/docs/Tutorials/Toy/). Toy is a simple\n",
    "tensor programming language, with pointwise addition and multiplication. It has \n",
    "compile-time checking for shapes, and a built-in print function to observe\n",
    "the results. In this tutorial we'll compile code to RISC-V assembly, so the\n",
    "tensors will be 32-bit integers. Given that we want to keep things simple, \n",
    "the codegen will be limited to tensors of rank <= 2. All `Values` are \n",
    "immutable (i.e. every operation returns a newly allocated value),\n",
    "and deallocation is automatically managed.\n",
    "\n",
    "Here is a simple Toy program running in a RISC-V emulator, compiled using xDSL.\n",
    "Try changing the program and observing the output:"
   ]
  },
  {
   "cell_type": "code",
   "execution_count": null,
   "id": "e07ae44f",
   "metadata": {},
   "outputs": [],
   "source": [
    "import xdsl as _\n",
    "\n",
    "from xdsl.utils.exceptions import VerifyException\n",
    "\n",
    "from compiler import compile, emulate_riscv\n",
    "\n",
    "program = \"\"\"\n",
    "def main() {\n",
    "  # Define a variable `a` with shape <2, 3>, initialized with the literal value.\n",
    "  # The shape is inferred from the supplied literal.\n",
    "  var a = [[1, 2, 3], [4, 5, 6]];\n",
    "\n",
    "  # b is identical to a, the literal tensor is implicitly reshaped: defining new\n",
    "  # variables is the way to reshape tensors (element count must match).\n",
    "  var b<3, 2> = [1, 2, 3, 4, 5, 6];\n",
    "\n",
    "  # There is a built-in print instruction to display the contents of the tensor\n",
    "  print(b);\n",
    "\n",
    "  # Reshapes are implicit on assignment\n",
    "  var c<2, 3> = b;\n",
    "\n",
    "  # There are + and * operators for pointwise addition and multiplication\n",
    "  var d = a + c;\n",
    "\n",
    "  print(d);\n",
    "}\n",
    "\"\"\"\n",
    "\n",
    "try:\n",
    "  code = compile(program)\n",
    "  emulate_riscv(code)\n",
    "except VerifyException as e:\n",
    "  print(e)"
   ]
  },
  {
   "cell_type": "markdown",
   "id": "9e14dd76",
   "metadata": {},
   "source": [
    "Type checking is statically performed through type inference; the language only\n",
    "requires type declarations to specify tensor shapes when needed."
   ]
  },
  {
   "cell_type": "markdown",
   "id": "025718ef",
   "metadata": {},
   "source": [
    "The code for the lexer is fairly straightforward; it is all in a single file:\n",
    "`toy/lexer.py`. The parser can be found in `toy/parser.py`; it is a recursive \n",
    "descent parser. If you are not familiar with such a Lexer/Parser, these are very similar \n",
    "to the LLVM Kaleidoscope equivalent that are detailed in the first two chapters of the\n",
    "[LLVM Kaleidoscope Tutorial](https://llvm.org/docs/tutorial/MyFirstLanguageFrontend/LangImpl02.html)."
   ]
  },
  {
   "attachments": {},
   "cell_type": "markdown",
   "id": "c78c5f61",
   "metadata": {},
   "source": [
    "<br><br/>\n",
    "[Back to table of contents](0_Table_of_Contents.ipynb)"
   ]
  }
 ],
 "metadata": {
  "kernelspec": {
   "display_name": "venv",
   "language": "python",
   "name": "python3"
  },
  "language_info": {
   "codemirror_mode": {
    "name": "ipython",
    "version": 3
   },
   "file_extension": ".py",
   "mimetype": "text/x-python",
   "name": "python",
   "nbconvert_exporter": "python",
   "pygments_lexer": "ipython3",
   "version": "3.10.7"
  },
  "vscode": {
   "interpreter": {
    "hash": "0d6790b426e2d71827724f01810f2f8f578a9246b0feca7b7fe6fc65e1a78cd0"
   }
  }
 },
 "nbformat": 4,
 "nbformat_minor": 5
}
