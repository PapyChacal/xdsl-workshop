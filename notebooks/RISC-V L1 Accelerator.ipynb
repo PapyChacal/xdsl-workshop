{
 "cells": [
  {
   "cell_type": "code",
   "execution_count": 1,
   "id": "82407bf4",
   "metadata": {},
   "outputs": [],
   "source": [
    "from riscv.riscv_ssa import *\n",
    "from riscv.emulator_iop import *"
   ]
  },
  {
   "cell_type": "code",
   "execution_count": 2,
   "id": "573699af",
   "metadata": {},
   "outputs": [],
   "source": [
    "from riscemu.IO import IOModule\n",
    "from riscemu.types import T_RelativeAddress, T_AbsoluteAddress, UInt32\n",
    "from riscemu.MMU import MMU"
   ]
  },
  {
   "cell_type": "code",
   "execution_count": 3,
   "id": "91e030c5",
   "metadata": {},
   "outputs": [],
   "source": [
    "import numpy as np\n",
    "from dataclasses import dataclass"
   ]
  },
  {
   "cell_type": "code",
   "execution_count": 8,
   "id": "ad6c79ab",
   "metadata": {},
   "outputs": [
    {
     "ename": "TypeError",
     "evalue": "module() takes at most 2 arguments (3 given)",
     "output_type": "error",
     "traceback": [
      "\u001b[0;31m---------------------------------------------------------------------------\u001b[0m",
      "\u001b[0;31mTypeError\u001b[0m                                 Traceback (most recent call last)",
      "Cell \u001b[0;32mIn[8], line 1\u001b[0m\n\u001b[0;32m----> 1\u001b[0m \u001b[38;5;28;01mclass\u001b[39;00m \u001b[38;5;21;01mMatrixMulAcc\u001b[39;00m(IOModule):\n\u001b[1;32m      2\u001b[0m \u001b[38;5;250m    \u001b[39m\u001b[38;5;124;03m\"\"\"\u001b[39;00m\n\u001b[1;32m      3\u001b[0m \u001b[38;5;124;03m    This represents a MatriMultiplication Accelerator interface that is present in shared\u001b[39;00m\n\u001b[1;32m      4\u001b[0m \u001b[38;5;124;03m    memory. \u001b[39;00m\n\u001b[0;32m   (...)\u001b[0m\n\u001b[1;32m     15\u001b[0m \u001b[38;5;124;03m    Then you write a nonzero value to the next address, and wait for a zero to be written\u001b[39;00m\n\u001b[1;32m     16\u001b[0m \u001b[38;5;124;03m    \"\"\"\u001b[39;00m\n\u001b[1;32m     17\u001b[0m     data \u001b[38;5;241m=\u001b[39m [\n\u001b[1;32m     18\u001b[0m         \u001b[38;5;241m0\u001b[39m, \u001b[38;5;66;03m# ptr_mtrx_1\u001b[39;00m\n\u001b[1;32m     19\u001b[0m         \u001b[38;5;241m0\u001b[39m, \u001b[38;5;66;03m# ptr_mtrx_2\u001b[39;00m\n\u001b[0;32m   (...)\u001b[0m\n\u001b[1;32m     24\u001b[0m         \u001b[38;5;241m0\u001b[39m, \u001b[38;5;66;03m# result_bit\u001b[39;00m\n\u001b[1;32m     25\u001b[0m     ]\n",
      "\u001b[0;31mTypeError\u001b[0m: module() takes at most 2 arguments (3 given)"
     ]
    }
   ],
   "source": [
    "class MatrixMulAcc(IOModule):\n",
    "    \"\"\"\n",
    "    This represents a MatriMultiplication Accelerator interface that is present in shared\n",
    "    memory. \n",
    "    \n",
    "    You use it by writing:\n",
    "        - pointer to matrix1, matrix2\n",
    "        - rows, cols in matrix1\n",
    "        - cols of matrix 2\n",
    "        - a pointer to dest_matrix (address space can overlap with matrix1 and 2)\n",
    "    \n",
    "    In this order as words (4 byte segments), \n",
    "    beginning at the base address of the Module (we'll get to that).\n",
    "    \n",
    "    Then you write a nonzero value to the next address, and wait for a zero to be written\n",
    "    \"\"\"\n",
    "    data = [\n",
    "        0, # ptr_mtrx_1\n",
    "        0, # ptr_mtrx_2\n",
    "        0, # rows\n",
    "        0, # cols\n",
    "        0, # cols of m2\n",
    "        0, # ptr_dest_mtrx\n",
    "        0, # result_bit\n",
    "    ]\n",
    "    \n",
    "    # make sure we're using numpys 32 bit little endian integers\n",
    "    dtype = '<i32'\n",
    "    \n",
    "    def __init__(self, base: T_AbsoluteAddress, mmu: MMU):\n",
    "        super(MatrixMulAcc, self).__init__(\n",
    "            'MatrixMulAcc', \n",
    "            MemoryFlags(False, False), \n",
    "            size=7 * 4, \n",
    "            base=base\n",
    "        )\n",
    "        # reset backing buffer\n",
    "        self.data = [0,0,0,0,0,0,0]\n",
    "        self.mmu = mmu\n",
    "        \n",
    "        \n",
    "    \n",
    "    def write(addr: T_RelativeAddress, data: bytearray, size: int):\n",
    "        assert size == 4\n",
    "        assert addr % 4 == 0\n",
    "        \n",
    "        data_index = addr // 4\n",
    "        \n",
    "        if data_index == 7:\n",
    "            # this is our \"go\" address, where we run the calculation\n",
    "            self._run()\n",
    "            self.data[7] == 1\n",
    "            return\n",
    "        \n",
    "        # interpret bytes as uint32 and then get the pyhton int value\n",
    "        data_as_uint32 = UInt32(data).value\n",
    "        # save in data array\n",
    "        self.data[data_index] = data_as_uint32\n",
    "    \n",
    "    def read(self, addr: T_RelativeAddress, size: int):\n",
    "        assert size == 4\n",
    "        index = addr // 4\n",
    "        return self.data[index]\n",
    "    \n",
    "    def _run(self):\n",
    "        # get all data from our backing array\n",
    "        ptr_mtrx_1, ptr_mtrx_2, rows, cols, cols_m2, ptr_dest_mtrx = self.data\n",
    "\n",
    "        mtrx1 = self._load_matrix_from_memory(ptr_mtrx_1, rows, cols)\n",
    "        mtrx2 = self._load_matrix_from_memory(ptr_mtrx_2, cols_m2, rows)\n",
    "        \n",
    "        res = mtrx1 * mtrx2\n",
    "        \n",
    "        print(res)\n",
    "        \n",
    "        res_bytes = res.tobytes()\n",
    "        assert len(res_bytes) == rows * cols * 4\n",
    "        \n",
    "        self.mmu.write(ptr_dest_mtrx, rows * cols * 4, bytearray(res_bytes))\n",
    "        print(\"done!\")\n",
    "        \n",
    "        \n",
    "    def _load_matrix_from_memory(self, addr: Int32, rows: int, cols: int):\n",
    "        buff = self.mmu.read(addr, rows * cols * 4)\n",
    "        return np.frombuffer(buff, dtype=self.dtype).reshape((rows, cols))\n",
    "        \n",
    "        "
   ]
  }
 ],
 "metadata": {
  "kernelspec": {
   "display_name": "Python 3 (ipykernel)",
   "language": "python",
   "name": "python3"
  },
  "language_info": {
   "codemirror_mode": {
    "name": "ipython",
    "version": 3
   },
   "file_extension": ".py",
   "mimetype": "text/x-python",
   "name": "python",
   "nbconvert_exporter": "python",
   "pygments_lexer": "ipython3",
   "version": "3.10.8"
  }
 },
 "nbformat": 4,
 "nbformat_minor": 5
}
